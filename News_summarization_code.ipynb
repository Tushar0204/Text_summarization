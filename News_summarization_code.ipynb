{
 "cells": [
  {
   "cell_type": "markdown",
   "id": "5c4e6151",
   "metadata": {},
   "source": [
    "# Importing Modules"
   ]
  },
  {
   "cell_type": "code",
   "execution_count": 1,
   "id": "c22845bf",
   "metadata": {},
   "outputs": [],
   "source": [
    "import pandas as pd\n",
    "import numpy as np\n",
    "from nltk import word_tokenize, sent_tokenize,PunktSentenceTokenizer\n",
    "from nltk.corpus import stopwords\n"
   ]
  },
  {
   "cell_type": "markdown",
   "id": "385cb6b0",
   "metadata": {},
   "source": [
    "# opening and reading file"
   ]
  },
  {
   "cell_type": "code",
   "execution_count": 2,
   "id": "4e76209c",
   "metadata": {},
   "outputs": [
    {
     "data": {
      "text/plain": [
       "\"The Chrysler Building, the famous art deco New York skyscraper, will be sold for a small fraction of its previous sales price.\\nThe deal, first reported by The Real Deal, was for $150 million, according to a source familiar with the deal.\\nMubadala, an Abu Dhabi investment fund, purchased 90% of the building for $800 million in 2008.\\nReal estate firm Tishman Speyer had owned the other 10%.\\nThe buyer is RFR Holding, a New York real estate company.\\nOfficials with Tishman and RFR did not immediately respond to a request for comments.\\nIt's unclear when the deal will close.\\nThe building sold fairly quickly after being publicly placed on the market only two months ago.\\nThe sale was handled by CBRE Group.\\nThe incentive to sell the building at such a huge loss was due to the soaring rent the owners pay to Cooper Union, a New York college, for the land under the building.\\nThe rent is rising from $7.75 million last year to $32.5 million this year to $41 million in 2028.\\nMeantime, rents in the building itself are not rising nearly that fast.\\nWhile the building is an iconic landmark in the New York skyline, it is competing against newer office towers with large floor-to-ceiling windows and all the modern amenities.\\nStill the building is among the best known in the city, even to people who have never been to New York.\\nIt is famous for its triangle-shaped, vaulted windows worked into the stylized crown, along with its distinctive eagle gargoyles near the top.\\nIt has been featured prominently in many films, including Men in Black 3, Spider-Man, Armageddon, Two Weeks Notice and Independence Day.\\nThe previous sale took place just before the 2008 financial meltdown led to a plunge in real estate prices.\\nStill there have been a number of high profile skyscrapers purchased for top dollar in recent years, including the Waldorf Astoria hotel, which Chinese firm Anbang Insurance purchased in 2016 for nearly $2 billion, and the Willis Tower in Chicago, which was formerly known as Sears Tower, once the world's tallest.\\nBlackstone Group (BX) bought it for $1.3 billion 2015.\\nThe Chrysler Building was the headquarters of the American automaker until 1953, but it was named for and owned by Chrysler chief Walter Chrysler, not the company itself.\\nWalter Chrysler had set out to build the tallest building in the world, a competition at that time with another Manhattan skyscraper under construction at 40 Wall Street at the south end of Manhattan. He kept secret the plans for the spire that would grace the top of the building, building it inside the structure and out of view of the public until 40 Wall Street was complete.\\nOnce the competitor could rise no higher, the spire of the Chrysler building was raised into view, giving it the title.\""
      ]
     },
     "execution_count": 2,
     "metadata": {},
     "output_type": "execute_result"
    }
   ],
   "source": [
    "with open('news.txt', 'r') as file:\n",
    "    data = file.read()\n",
    "data\n",
    "\n"
   ]
  },
  {
   "cell_type": "markdown",
   "id": "7e7f4e17",
   "metadata": {},
   "source": [
    "# removing stopwords and word tokenization"
   ]
  },
  {
   "cell_type": "code",
   "execution_count": 3,
   "id": "b8b5db31",
   "metadata": {},
   "outputs": [
    {
     "data": {
      "text/plain": [
       "{'chrysler': 6,\n",
       " 'building': 13,\n",
       " ',': 30,\n",
       " 'famous': 2,\n",
       " 'art': 1,\n",
       " 'deco': 1,\n",
       " 'new': 5,\n",
       " 'york': 5,\n",
       " 'skyscraper': 2,\n",
       " 'sold': 2,\n",
       " 'small': 1,\n",
       " 'fraction': 1,\n",
       " 'previous': 2,\n",
       " 'sales': 1,\n",
       " 'price': 1,\n",
       " '.': 23,\n",
       " 'deal': 4,\n",
       " 'first': 1,\n",
       " 'reported': 1,\n",
       " 'real': 4,\n",
       " '$': 7,\n",
       " '150': 1,\n",
       " 'million': 5,\n",
       " 'according': 1,\n",
       " 'source': 1,\n",
       " 'familiar': 1,\n",
       " 'mubadala': 1,\n",
       " 'abu': 1,\n",
       " 'dhabi': 1,\n",
       " 'investment': 1,\n",
       " 'fund': 1,\n",
       " 'purchased': 3,\n",
       " '90': 1,\n",
       " '%': 2,\n",
       " '800': 1,\n",
       " '2008': 2,\n",
       " 'estate': 3,\n",
       " 'firm': 2,\n",
       " 'tishman': 2,\n",
       " 'speyer': 1,\n",
       " 'owned': 2,\n",
       " '10': 1,\n",
       " 'buyer': 1,\n",
       " 'rfr': 2,\n",
       " 'holding': 1,\n",
       " 'company': 2,\n",
       " 'officials': 1,\n",
       " 'immediately': 1,\n",
       " 'respond': 1,\n",
       " 'request': 1,\n",
       " 'comments': 1,\n",
       " \"'s\": 2,\n",
       " 'unclear': 1,\n",
       " 'close': 1,\n",
       " 'fairly': 1,\n",
       " 'quickly': 1,\n",
       " 'publicly': 1,\n",
       " 'placed': 1,\n",
       " 'market': 1,\n",
       " 'two': 2,\n",
       " 'months': 1,\n",
       " 'ago': 1,\n",
       " 'sale': 2,\n",
       " 'handled': 1,\n",
       " 'cbre': 1,\n",
       " 'group': 2,\n",
       " 'incentive': 1,\n",
       " 'sell': 1,\n",
       " 'huge': 1,\n",
       " 'loss': 1,\n",
       " 'due': 1,\n",
       " 'soaring': 1,\n",
       " 'rent': 2,\n",
       " 'owners': 1,\n",
       " 'pay': 1,\n",
       " 'cooper': 1,\n",
       " 'union': 1,\n",
       " 'college': 1,\n",
       " 'land': 1,\n",
       " 'rising': 2,\n",
       " '7.75': 1,\n",
       " 'last': 1,\n",
       " 'year': 2,\n",
       " '32.5': 1,\n",
       " '41': 1,\n",
       " '2028': 1,\n",
       " 'meantime': 1,\n",
       " 'rents': 1,\n",
       " 'nearly': 2,\n",
       " 'fast': 1,\n",
       " 'iconic': 1,\n",
       " 'landmark': 1,\n",
       " 'skyline': 1,\n",
       " 'competing': 1,\n",
       " 'newer': 1,\n",
       " 'office': 1,\n",
       " 'towers': 1,\n",
       " 'large': 1,\n",
       " 'floor-to-ceiling': 1,\n",
       " 'windows': 2,\n",
       " 'modern': 1,\n",
       " 'amenities': 1,\n",
       " 'still': 2,\n",
       " 'among': 1,\n",
       " 'best': 1,\n",
       " 'known': 2,\n",
       " 'city': 1,\n",
       " 'even': 1,\n",
       " 'people': 1,\n",
       " 'never': 1,\n",
       " 'triangle-shaped': 1,\n",
       " 'vaulted': 1,\n",
       " 'worked': 1,\n",
       " 'stylized': 1,\n",
       " 'crown': 1,\n",
       " 'along': 1,\n",
       " 'distinctive': 1,\n",
       " 'eagle': 1,\n",
       " 'gargoyles': 1,\n",
       " 'near': 1,\n",
       " 'top': 3,\n",
       " 'featured': 1,\n",
       " 'prominently': 1,\n",
       " 'many': 1,\n",
       " 'films': 1,\n",
       " 'including': 2,\n",
       " 'men': 1,\n",
       " 'black': 1,\n",
       " '3': 1,\n",
       " 'spider-man': 1,\n",
       " 'armageddon': 1,\n",
       " 'weeks': 1,\n",
       " 'notice': 1,\n",
       " 'independence': 1,\n",
       " 'day': 1,\n",
       " 'took': 1,\n",
       " 'place': 1,\n",
       " 'financial': 1,\n",
       " 'meltdown': 1,\n",
       " 'led': 1,\n",
       " 'plunge': 1,\n",
       " 'prices': 1,\n",
       " 'number': 1,\n",
       " 'high': 1,\n",
       " 'profile': 1,\n",
       " 'skyscrapers': 1,\n",
       " 'dollar': 1,\n",
       " 'recent': 1,\n",
       " 'years': 1,\n",
       " 'waldorf': 1,\n",
       " 'astoria': 1,\n",
       " 'hotel': 1,\n",
       " 'chinese': 1,\n",
       " 'anbang': 1,\n",
       " 'insurance': 1,\n",
       " '2016': 1,\n",
       " '2': 1,\n",
       " 'billion': 2,\n",
       " 'willis': 1,\n",
       " 'tower': 2,\n",
       " 'chicago': 1,\n",
       " 'formerly': 1,\n",
       " 'sears': 1,\n",
       " 'world': 2,\n",
       " 'tallest': 2,\n",
       " 'blackstone': 1,\n",
       " '(': 1,\n",
       " 'bx': 1,\n",
       " ')': 1,\n",
       " 'bought': 1,\n",
       " '1.3': 1,\n",
       " '2015': 1,\n",
       " 'headquarters': 1,\n",
       " 'american': 1,\n",
       " 'automaker': 1,\n",
       " '1953': 1,\n",
       " 'named': 1,\n",
       " 'chief': 1,\n",
       " 'walter': 2,\n",
       " 'set': 1,\n",
       " 'build': 1,\n",
       " 'competition': 1,\n",
       " 'time': 1,\n",
       " 'another': 1,\n",
       " 'manhattan': 2,\n",
       " 'construction': 1,\n",
       " '40': 2,\n",
       " 'wall': 2,\n",
       " 'street': 2,\n",
       " 'south': 1,\n",
       " 'end': 1,\n",
       " 'kept': 1,\n",
       " 'secret': 1,\n",
       " 'plans': 1,\n",
       " 'spire': 2,\n",
       " 'would': 1,\n",
       " 'grace': 1,\n",
       " 'inside': 1,\n",
       " 'structure': 1,\n",
       " 'view': 2,\n",
       " 'public': 1,\n",
       " 'complete': 1,\n",
       " 'competitor': 1,\n",
       " 'could': 1,\n",
       " 'rise': 1,\n",
       " 'higher': 1,\n",
       " 'raised': 1,\n",
       " 'giving': 1,\n",
       " 'title': 1}"
      ]
     },
     "execution_count": 3,
     "metadata": {},
     "output_type": "execute_result"
    }
   ],
   "source": [
    "stopwords1 = set(stopwords.words(\"english\"))\n",
    "words = word_tokenize(data)\n",
    "freqTable = {}\n",
    "for word in words:\n",
    "    word = word.lower()\n",
    "    if word in stopwords1:\n",
    "        continue\n",
    "    if word in freqTable:\n",
    "        freqTable[word] += 1\n",
    "    else :\n",
    "        freqTable[word] = 1\n",
    "freqTable"
   ]
  },
  {
   "cell_type": "markdown",
   "id": "6cf060ad",
   "metadata": {},
   "source": [
    "# sentence tokenization"
   ]
  },
  {
   "cell_type": "code",
   "execution_count": 4,
   "id": "945cebe5",
   "metadata": {},
   "outputs": [],
   "source": [
    "sentences = sent_tokenize(data)\n",
    "sentenceValue = {}\n",
    "for sentence in sentences:\n",
    "    for word, freq in freqTable.items():\n",
    "        if word in sentence.lower():\n",
    "            if sentence in sentenceValue:\n",
    "                sentenceValue[sentence] += freq\n",
    "            else :\n",
    "                sentenceValue[sentence] = freq\n"
   ]
  },
  {
   "cell_type": "markdown",
   "id": "f04648a6",
   "metadata": {},
   "source": [
    "# setting summarization limit"
   ]
  },
  {
   "cell_type": "code",
   "execution_count": 5,
   "id": "8c1fec53",
   "metadata": {},
   "outputs": [],
   "source": [
    "sumValues = 0\n",
    "for sentence in sentenceValue:\n",
    "    sumValues += sentenceValue[sentence]\n",
    "average = int(sumValues / len(sentenceValue))"
   ]
  },
  {
   "cell_type": "markdown",
   "id": "212f973b",
   "metadata": {},
   "source": [
    "# result"
   ]
  },
  {
   "cell_type": "code",
   "execution_count": 6,
   "id": "d78b2620",
   "metadata": {},
   "outputs": [
    {
     "data": {
      "text/plain": [
       "\"The deal, first reported by The Real Deal, was for $150 million, according to a source familiar with the deal.\\nReal estate firm Tishman Speyer had owned the other 10%.\\nThe buyer is RFR Holding, a New York real estate company.\\nOfficials with Tishman and RFR did not immediately respond to a request for comments.\\nIt's unclear when the deal will close.\\nThe building sold fairly quickly after being publicly placed on the market only two months ago.\\nThe sale was handled by CBRE Group.\\nThe rent is rising from $7.75 million last year to $32.5 million this year to $41 million in 2028.\\nMeantime, rents in the building itself are not rising nearly that fast.\\nIt is famous for its triangle-shaped, vaulted windows worked into the stylized crown, along with its distinctive eagle gargoyles near the top.\\nIt has been featured prominently in many films, including Men in Black 3, Spider-Man, Armageddon, Two Weeks Notice and Independence Day.\\nThe previous sale took place just before the 2008 financial meltdown led to a plunge in real estate prices.\\nBlackstone Group (BX) bought it for $1.3 billion 2015.\\n\""
      ]
     },
     "execution_count": 6,
     "metadata": {},
     "output_type": "execute_result"
    }
   ],
   "source": [
    "summary = ''\n",
    "for sentence in sentences:\n",
    "    if (sentence in sentenceValue) and(sentenceValue[sentence] < (1.2 * average)):\n",
    "        summary += sentence + '\\n'\n",
    "summary"
   ]
  },
  {
   "cell_type": "markdown",
   "id": "245567f4",
   "metadata": {},
   "source": [
    "# you can check result.txt_news to see the summarized text"
   ]
  },
  {
   "cell_type": "code",
   "execution_count": 7,
   "id": "23179744",
   "metadata": {},
   "outputs": [],
   "source": [
    "with open('result.txt_news', 'w') as f:\n",
    "    f.write(summary)"
   ]
  },
  {
   "cell_type": "code",
   "execution_count": null,
   "id": "d1682f74",
   "metadata": {},
   "outputs": [],
   "source": []
  }
 ],
 "metadata": {
  "kernelspec": {
   "display_name": "Python 3 (ipykernel)",
   "language": "python",
   "name": "python3"
  },
  "language_info": {
   "codemirror_mode": {
    "name": "ipython",
    "version": 3
   },
   "file_extension": ".py",
   "mimetype": "text/x-python",
   "name": "python",
   "nbconvert_exporter": "python",
   "pygments_lexer": "ipython3",
   "version": "3.9.1"
  }
 },
 "nbformat": 4,
 "nbformat_minor": 5
}
